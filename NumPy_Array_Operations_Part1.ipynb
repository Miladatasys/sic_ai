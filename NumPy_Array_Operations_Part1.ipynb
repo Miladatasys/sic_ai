{
  "nbformat": 4,
  "nbformat_minor": 0,
  "metadata": {
    "colab": {
      "provenance": [],
      "collapsed_sections": [
        "M05BitYcQvsq",
        "fumduzmUR81e",
        "M3e3Xu6wVX4Z",
        "tu-vw6T5Vcmk",
        "3dRk9CvtaVYH"
      ],
      "toc_visible": true,
      "authorship_tag": "ABX9TyNz+y9m3sNdq+4TXjcTnRka",
      "include_colab_link": true
    },
    "kernelspec": {
      "name": "python3",
      "display_name": "Python 3"
    },
    "language_info": {
      "name": "python"
    }
  },
  "cells": [
    {
      "cell_type": "markdown",
      "metadata": {
        "id": "view-in-github",
        "colab_type": "text"
      },
      "source": [
        "<a href=\"https://colab.research.google.com/github/Miladatasys/sic_ai/blob/main/NumPy_Array_Operations_Part1.ipynb\" target=\"_parent\"><img src=\"https://colab.research.google.com/assets/colab-badge.svg\" alt=\"Open In Colab\"/></a>"
      ]
    },
    {
      "cell_type": "markdown",
      "source": [
        "# Hacer Fork del Repositorio y Clonar el Repositorio Fork en Google Colab"
      ],
      "metadata": {
        "id": "M05BitYcQvsq"
      }
    },
    {
      "cell_type": "code",
      "execution_count": null,
      "metadata": {
        "colab": {
          "base_uri": "https://localhost:8080/"
        },
        "id": "piTzEio67_Sq",
        "outputId": "430fb740-def5-48ac-accc-c5da5ae404d1"
      },
      "outputs": [
        {
          "output_type": "stream",
          "name": "stdout",
          "text": [
            "Cloning into 'sic_ai_2024'...\n",
            "remote: Enumerating objects: 243, done.\u001b[K\n",
            "remote: Counting objects: 100% (80/80), done.\u001b[K\n",
            "remote: Compressing objects: 100% (62/62), done.\u001b[K\n",
            "remote: Total 243 (delta 44), reused 47 (delta 17), pack-reused 163\u001b[K\n",
            "Receiving objects: 100% (243/243), 3.25 MiB | 14.05 MiB/s, done.\n",
            "Resolving deltas: 100% (125/125), done.\n"
          ]
        }
      ],
      "source": [
        "!git clone https://github.com/Miladatasys/sic_ai_2024.git"
      ]
    },
    {
      "cell_type": "code",
      "source": [
        "%cd sic_ai_2024"
      ],
      "metadata": {
        "colab": {
          "base_uri": "https://localhost:8080/"
        },
        "id": "s6foPRivQRBL",
        "outputId": "d04b2fe0-c3a2-4594-c904-64a5a49fd8c8"
      },
      "execution_count": null,
      "outputs": [
        {
          "output_type": "stream",
          "name": "stdout",
          "text": [
            "/content/sic_ai_2024/sic_ai_2024\n"
          ]
        }
      ]
    },
    {
      "cell_type": "markdown",
      "source": [
        "# Crear una Nueva Rama"
      ],
      "metadata": {
        "id": "fumduzmUR81e"
      }
    },
    {
      "cell_type": "code",
      "source": [
        "!git checkout -b array-operations"
      ],
      "metadata": {
        "colab": {
          "base_uri": "https://localhost:8080/"
        },
        "id": "fKVCvBQNSAYg",
        "outputId": "3c340ae0-37a6-4803-edc9-3c362349bcd1"
      },
      "execution_count": null,
      "outputs": [
        {
          "output_type": "stream",
          "name": "stdout",
          "text": [
            "Switched to a new branch 'array-operations'\n"
          ]
        }
      ]
    },
    {
      "cell_type": "markdown",
      "source": [
        "# Cambiar a carpeta"
      ],
      "metadata": {
        "id": "M3e3Xu6wVX4Z"
      }
    },
    {
      "cell_type": "code",
      "source": [
        "!ls /content/sic_ai_2024/sic_ai_2024/002_preprocesamiento"
      ],
      "metadata": {
        "colab": {
          "base_uri": "https://localhost:8080/"
        },
        "id": "PbRizMFSUlrv",
        "outputId": "f30fe4f1-051a-43d3-d313-72734f61ac08"
      },
      "execution_count": null,
      "outputs": [
        {
          "output_type": "stream",
          "name": "stdout",
          "text": [
            "3.1.3_NumPy_Array_Operations\t\t Chapter_3\t\t   Clase6_SIC_AI_2024.ipynb\n",
            "3.1.4_NumPy_Indexing_and_Slicing\t Clase3_SIC_AI_2024.ipynb  README.md\n",
            "3.1.5_Array_Transposition_and_Axis_Swap  Clase4_SIC_AI_2024.ipynb\n",
            "3.2_pandas\t\t\t\t Clase5_SIC_AI_2024.ipynb\n"
          ]
        }
      ]
    },
    {
      "cell_type": "code",
      "source": [
        "!ls /content/sic_ai_2024/sic_ai_2024/002_preprocesamiento"
      ],
      "metadata": {
        "colab": {
          "base_uri": "https://localhost:8080/"
        },
        "id": "CPixkn1mYaDX",
        "outputId": "b4665f8e-e3a4-44a0-e3c4-99dee6248e28"
      },
      "execution_count": null,
      "outputs": [
        {
          "output_type": "stream",
          "name": "stdout",
          "text": [
            "3.1.3_NumPy_Array_Operations\t\t Chapter_3\t\t   Clase6_SIC_AI_2024.ipynb\n",
            "3.1.4_NumPy_Indexing_and_Slicing\t Clase3_SIC_AI_2024.ipynb  README.md\n",
            "3.1.5_Array_Transposition_and_Axis_Swap  Clase4_SIC_AI_2024.ipynb\n",
            "3.2_pandas\t\t\t\t Clase5_SIC_AI_2024.ipynb\n"
          ]
        }
      ]
    },
    {
      "cell_type": "code",
      "source": [
        "%cd /content/sic_ai_2024/sic_ai_2024/002_preprocesamiento/3.1.3_NumPy_Array_Operations"
      ],
      "metadata": {
        "colab": {
          "base_uri": "https://localhost:8080/"
        },
        "id": "ddy0StwEYnl2",
        "outputId": "b7b7a5c5-77c0-41e1-ef47-36dbcaf53cb5"
      },
      "execution_count": null,
      "outputs": [
        {
          "output_type": "stream",
          "name": "stdout",
          "text": [
            "/content/sic_ai_2024/sic_ai_2024/002_preprocesamiento/3.1.3_NumPy_Array_Operations\n"
          ]
        }
      ]
    },
    {
      "cell_type": "code",
      "source": [
        "%pwd"
      ],
      "metadata": {
        "colab": {
          "base_uri": "https://localhost:8080/",
          "height": 54
        },
        "id": "87883yWwYqZ1",
        "outputId": "213cb38f-ed50-4605-994d-a92be64b5665"
      },
      "execution_count": null,
      "outputs": [
        {
          "output_type": "execute_result",
          "data": {
            "text/plain": [
              "'/content/sic_ai_2024/sic_ai_2024/002_preprocesamiento/3.1.3_NumPy_Array_Operations'"
            ],
            "application/vnd.google.colaboratory.intrinsic+json": {
              "type": "string"
            }
          },
          "metadata": {},
          "execution_count": 18
        }
      ]
    },
    {
      "cell_type": "code",
      "source": [
        "!touch tareaclase05.py"
      ],
      "metadata": {
        "id": "vrzxq9NrYtM4"
      },
      "execution_count": null,
      "outputs": []
    },
    {
      "cell_type": "markdown",
      "source": [
        "# Crear archivo"
      ],
      "metadata": {
        "id": "tu-vw6T5Vcmk"
      }
    },
    {
      "cell_type": "code",
      "source": [
        "!touch \"002_preprocesamiento/3.1.3_NumPy_Array_Operations/tareaclase05.py\""
      ],
      "metadata": {
        "colab": {
          "base_uri": "https://localhost:8080/"
        },
        "id": "rzT8qU5VVe7l",
        "outputId": "9e003d78-9334-43f5-c958-321236092f4e"
      },
      "execution_count": null,
      "outputs": [
        {
          "output_type": "stream",
          "name": "stdout",
          "text": [
            "touch: cannot touch '002_preprocesamiento/3.1.3_NumPy_Array_Operations/tareaclase05.py': No such file or directory\n"
          ]
        }
      ]
    },
    {
      "cell_type": "markdown",
      "source": [
        "# Añadir archivo al repositorio, hacer commit, push y pull request"
      ],
      "metadata": {
        "id": "3dRk9CvtaVYH"
      }
    },
    {
      "cell_type": "code",
      "source": [
        "!git add tareaclase05.py"
      ],
      "metadata": {
        "id": "rbXf0dKSafZy"
      },
      "execution_count": 35,
      "outputs": []
    },
    {
      "cell_type": "code",
      "source": [
        "!git commit -m \"tarea clase 05\""
      ],
      "metadata": {
        "colab": {
          "base_uri": "https://localhost:8080/"
        },
        "id": "N7tL9_EYar1a",
        "outputId": "d9fb7179-e105-410f-d622-23a959ae0047"
      },
      "execution_count": 40,
      "outputs": [
        {
          "output_type": "stream",
          "name": "stdout",
          "text": [
            "On branch array-operations\n",
            "nothing to commit, working tree clean\n"
          ]
        }
      ]
    },
    {
      "cell_type": "code",
      "source": [
        "!git push origin array-operations"
      ],
      "metadata": {
        "colab": {
          "base_uri": "https://localhost:8080/"
        },
        "id": "dZxgG9izdCVA",
        "outputId": "b507c433-820f-45f6-f568-f5eeaf18eefc"
      },
      "execution_count": 38,
      "outputs": [
        {
          "output_type": "stream",
          "name": "stdout",
          "text": [
            "fatal: could not read Username for 'https://github.com': No such device or address\n"
          ]
        }
      ]
    },
    {
      "cell_type": "markdown",
      "source": [
        "# Sección 1.3 NumPy Array Operations"
      ],
      "metadata": {
        "id": "l_6AxUeJg0wK"
      }
    },
    {
      "cell_type": "markdown",
      "source": [
        "listas"
      ],
      "metadata": {
        "id": "_QPoVE7wmMtU"
      }
    },
    {
      "cell_type": "code",
      "source": [
        "# Uso del operador + en listas\n",
        "\n",
        "import numpy as np\n",
        "\n",
        "a = [10, 20, 30, 40]\n",
        "b = [1, 2, 3, 4]\n",
        "c = a + b\n",
        "print(c)\n",
        "\n",
        "#Se crean las listas a y b y luego se suman dando resultado c. Se concatenan los valores"
      ],
      "metadata": {
        "colab": {
          "base_uri": "https://localhost:8080/"
        },
        "id": "yYbj1qJbjOAI",
        "outputId": "7a01c3d5-a097-448a-f789-467f05690bf3"
      },
      "execution_count": 42,
      "outputs": [
        {
          "output_type": "stream",
          "name": "stdout",
          "text": [
            "[10, 20, 30, 40, 1, 2, 3, 4]\n"
          ]
        }
      ]
    },
    {
      "cell_type": "markdown",
      "source": [
        "arrays o arreglos"
      ],
      "metadata": {
        "id": "hz6jkmeXmOW7"
      }
    },
    {
      "cell_type": "code",
      "source": [
        "arr1 = np.array([10, 20, 30])\n",
        "arr2 = np.array([1, 2, 3])\n",
        "arr3 = arr1 + arr2\n",
        "print(arr3)\n",
        "#En arreglos se suman los valores del primer array con el segundo según sus posiciones\n"
      ],
      "metadata": {
        "colab": {
          "base_uri": "https://localhost:8080/"
        },
        "id": "qVltJSeKkgQK",
        "outputId": "5d6e2f85-e104-4953-d0a5-a7b5cbc1ace2"
      },
      "execution_count": 44,
      "outputs": [
        {
          "output_type": "stream",
          "name": "stdout",
          "text": [
            "[11 22 33]\n"
          ]
        }
      ]
    },
    {
      "cell_type": "markdown",
      "source": [
        "matrices y operadores matemáticos"
      ],
      "metadata": {
        "id": "QlwyN3BqmTQU"
      }
    },
    {
      "cell_type": "code",
      "source": [
        "# Podemos realizar otras operaciones como suma, resta, mult y div\n",
        "arr1 = np.array([10, 20, 30])\n",
        "arr2 = np.array([1, 2, 3])\n",
        "\n",
        "print(arr1.ndim) # dimensiones\n",
        "print(arr1.size) # tamaño o numero de elementos\n",
        "print(arr1.shape) # devuelve una tupla que en este caso es 1 dimensión con tres elementos\n",
        "\n",
        "# El uso de corchetes se usa para definir listas y acceder a elementos dentro de\n",
        "# los array. Y paréntesis para llamar a las funciones y métodos\n",
        "\n",
        "print(arr2.ndim)\n",
        "print(arr2.size)\n",
        "print(arr2.shape)\n",
        "\n",
        "print(arr1 + arr2) # suma\n",
        "print(arr1 - arr2) # resta\n",
        "print(arr1 * arr2) # multiplicación\n",
        "print(arr1 / arr2) # división"
      ],
      "metadata": {
        "colab": {
          "base_uri": "https://localhost:8080/"
        },
        "id": "rlu26rkrldeW",
        "outputId": "efd056bf-409e-49de-dc65-6939206b08de"
      },
      "execution_count": 48,
      "outputs": [
        {
          "output_type": "stream",
          "name": "stdout",
          "text": [
            "1\n",
            "3\n",
            "(3,)\n",
            "1\n",
            "3\n",
            "(3,)\n",
            "[11 22 33]\n",
            "[ 9 18 27]\n",
            "[10 40 90]\n",
            "[10. 10. 10.]\n"
          ]
        }
      ]
    },
    {
      "cell_type": "markdown",
      "source": [
        "repetición y mosaico (métodos NumPy)"
      ],
      "metadata": {
        "id": "VZTqkE1ZpjkM"
      }
    },
    {
      "cell_type": "code",
      "source": [
        "b"
      ],
      "metadata": {
        "colab": {
          "base_uri": "https://localhost:8080/"
        },
        "id": "ubVKkQcPphij",
        "outputId": "8a80167d-5bd6-4646-ac9a-42971de8695d"
      },
      "execution_count": 54,
      "outputs": [
        {
          "output_type": "execute_result",
          "data": {
            "text/plain": [
              "[1, 2, 3, 4]"
            ]
          },
          "metadata": {},
          "execution_count": 54
        }
      ]
    },
    {
      "cell_type": "code",
      "source": [
        "np.repeat(b, 2)"
      ],
      "metadata": {
        "colab": {
          "base_uri": "https://localhost:8080/"
        },
        "id": "HC2-V8gXqTfK",
        "outputId": "fcba2c18-e91c-43ba-b104-6378fd2a81cb"
      },
      "execution_count": 55,
      "outputs": [
        {
          "output_type": "execute_result",
          "data": {
            "text/plain": [
              "array([1, 1, 2, 2, 3, 3, 4, 4])"
            ]
          },
          "metadata": {},
          "execution_count": 55
        }
      ]
    },
    {
      "cell_type": "code",
      "source": [
        "np.tile(b, 3)"
      ],
      "metadata": {
        "colab": {
          "base_uri": "https://localhost:8080/"
        },
        "id": "H7MbwALVqU8D",
        "outputId": "4fb282f2-c2b0-4f30-cb82-13422085bb64"
      },
      "execution_count": 57,
      "outputs": [
        {
          "output_type": "execute_result",
          "data": {
            "text/plain": [
              "array([1, 2, 3, 4, 1, 2, 3, 4, 1, 2, 3, 4])"
            ]
          },
          "metadata": {},
          "execution_count": 57
        }
      ]
    },
    {
      "cell_type": "code",
      "source": [
        "c =np.arange(10)\n",
        "c"
      ],
      "metadata": {
        "colab": {
          "base_uri": "https://localhost:8080/"
        },
        "id": "L7jkR3lEqnjV",
        "outputId": "9cc39e69-3105-489c-e28f-dcc54ec19568"
      },
      "execution_count": 59,
      "outputs": [
        {
          "output_type": "execute_result",
          "data": {
            "text/plain": [
              "array([0, 1, 2, 3, 4, 5, 6, 7, 8, 9])"
            ]
          },
          "metadata": {},
          "execution_count": 59
        }
      ]
    },
    {
      "cell_type": "code",
      "source": [
        "c = c.reshape(2, 5)\n",
        "c"
      ],
      "metadata": {
        "colab": {
          "base_uri": "https://localhost:8080/"
        },
        "id": "4wc-Kevkquzv",
        "outputId": "eec1c7a2-cd37-4127-c296-cbabc512e75c"
      },
      "execution_count": 60,
      "outputs": [
        {
          "output_type": "execute_result",
          "data": {
            "text/plain": [
              "array([[0, 1, 2, 3, 4],\n",
              "       [5, 6, 7, 8, 9]])"
            ]
          },
          "metadata": {},
          "execution_count": 60
        }
      ]
    },
    {
      "cell_type": "code",
      "source": [
        "np.tile(c, 2)\n",
        "\n",
        "#tile replica el array c a lo largo de un eje específico\n",
        "# c se replica en ambas dimensiones dos veces\n"
      ],
      "metadata": {
        "colab": {
          "base_uri": "https://localhost:8080/"
        },
        "id": "XhdqSKymq04b",
        "outputId": "b5cec7f2-cac1-4bd0-dc78-77f5b9ee8bfd"
      },
      "execution_count": 69,
      "outputs": [
        {
          "output_type": "execute_result",
          "data": {
            "text/plain": [
              "array([[0, 1, 2, 3, 4, 0, 1, 2, 3, 4],\n",
              "       [5, 6, 7, 8, 9, 5, 6, 7, 8, 9]])"
            ]
          },
          "metadata": {},
          "execution_count": 69
        }
      ]
    },
    {
      "cell_type": "code",
      "source": [
        "import numpy as np\n",
        "\n",
        "c = np.array([[0, 1, 2, 3, 4], [5, 6, 7, 8, 9]])\n",
        "result = np.tile(c, 3)\n",
        "print(result)\n"
      ],
      "metadata": {
        "colab": {
          "base_uri": "https://localhost:8080/"
        },
        "id": "fNu103xOsc5q",
        "outputId": "ec2352a8-8dc8-4485-9e00-1d71d425fdbe"
      },
      "execution_count": 70,
      "outputs": [
        {
          "output_type": "stream",
          "name": "stdout",
          "text": [
            "[[0 1 2 3 4 0 1 2 3 4 0 1 2 3 4]\n",
            " [5 6 7 8 9 5 6 7 8 9 5 6 7 8 9]]\n"
          ]
        }
      ]
    },
    {
      "cell_type": "code",
      "source": [
        "arr2"
      ],
      "metadata": {
        "colab": {
          "base_uri": "https://localhost:8080/"
        },
        "id": "kWRFImVguGu5",
        "outputId": "05fa0f71-58a0-486e-85e2-3c1a51920a02"
      },
      "execution_count": 77,
      "outputs": [
        {
          "output_type": "execute_result",
          "data": {
            "text/plain": [
              "array([1, 2, 3])"
            ]
          },
          "metadata": {},
          "execution_count": 77
        }
      ]
    },
    {
      "cell_type": "code",
      "source": [
        "arr2**2"
      ],
      "metadata": {
        "colab": {
          "base_uri": "https://localhost:8080/"
        },
        "id": "UqocKgqguLwW",
        "outputId": "6180666f-1c2a-4845-ed4b-ac63a83a9726"
      },
      "execution_count": 78,
      "outputs": [
        {
          "output_type": "execute_result",
          "data": {
            "text/plain": [
              "array([1, 4, 9])"
            ]
          },
          "metadata": {},
          "execution_count": 78
        }
      ]
    },
    {
      "cell_type": "code",
      "source": [
        "arr2**3"
      ],
      "metadata": {
        "colab": {
          "base_uri": "https://localhost:8080/"
        },
        "id": "vRnCtzbSuRQs",
        "outputId": "2cf79888-ff5a-43a2-c696-b0f4de65e8f7"
      },
      "execution_count": 79,
      "outputs": [
        {
          "output_type": "execute_result",
          "data": {
            "text/plain": [
              "array([ 1,  8, 27])"
            ]
          },
          "metadata": {},
          "execution_count": 79
        }
      ]
    },
    {
      "cell_type": "code",
      "source": [
        "arr1 / (arr2**2)"
      ],
      "metadata": {
        "colab": {
          "base_uri": "https://localhost:8080/"
        },
        "id": "dUucV2AEuWNG",
        "outputId": "ea25a820-18d0-438f-dc64-fc68546e2f4b"
      },
      "execution_count": 80,
      "outputs": [
        {
          "output_type": "execute_result",
          "data": {
            "text/plain": [
              "array([10.        ,  5.        ,  3.33333333])"
            ]
          },
          "metadata": {},
          "execution_count": 80
        }
      ]
    },
    {
      "cell_type": "code",
      "source": [
        "#También podemos usar operaciones de comparación a través de valores booleans\n",
        "\n",
        "arr9 = np.array([10, 20, 30])\n",
        "arr9\n",
        "arr9 > 15"
      ],
      "metadata": {
        "colab": {
          "base_uri": "https://localhost:8080/"
        },
        "id": "i0Ed3fxTudBT",
        "outputId": "74a6cf79-04a2-4222-c45d-a65708ed84c4"
      },
      "execution_count": 82,
      "outputs": [
        {
          "output_type": "execute_result",
          "data": {
            "text/plain": [
              "array([False,  True,  True])"
            ]
          },
          "metadata": {},
          "execution_count": 82
        }
      ]
    },
    {
      "cell_type": "markdown",
      "source": [
        "multiplicacion en listas y arrays"
      ],
      "metadata": {
        "id": "cbTbxTS1tMTL"
      }
    },
    {
      "cell_type": "code",
      "source": [
        "a =[1,2,3]\n",
        "3*a\n",
        "#en listas el operador * significa repetición"
      ],
      "metadata": {
        "colab": {
          "base_uri": "https://localhost:8080/"
        },
        "id": "GBclJCmOtO-R",
        "outputId": "bd9de8ab-e525-468f-9cf9-90c283301490"
      },
      "execution_count": 74,
      "outputs": [
        {
          "output_type": "execute_result",
          "data": {
            "text/plain": [
              "[1, 2, 3, 1, 2, 3, 1, 2, 3]"
            ]
          },
          "metadata": {},
          "execution_count": 74
        }
      ]
    },
    {
      "cell_type": "code",
      "source": [
        "b = np.array([1, 2, 3])\n",
        "3*b\n",
        "\n",
        "#Y en arrays implica la multiplicación de cada elemento"
      ],
      "metadata": {
        "colab": {
          "base_uri": "https://localhost:8080/"
        },
        "id": "0IsmJo_BttMu",
        "outputId": "0eb2b32d-32da-4354-b5cf-a06229dac4a5"
      },
      "execution_count": 76,
      "outputs": [
        {
          "output_type": "execute_result",
          "data": {
            "text/plain": [
              "array([3, 6, 9])"
            ]
          },
          "metadata": {},
          "execution_count": 76
        }
      ]
    },
    {
      "cell_type": "markdown",
      "source": [
        "Funciones universales"
      ],
      "metadata": {
        "id": "3glkWLjRvmDE"
      }
    },
    {
      "cell_type": "code",
      "source": [
        "x = np.array([1, 2, 3])\n",
        "x**3\n",
        "\n",
        "np.sqrt(x)\n",
        "\n",
        "# Aqui la x es unidimensional con los elementos 1,2,3\n",
        "# x**3 aplica la operación al cubo de cada elemento del array: 1**3 = 1, 2**3 = 8, 3**3 = 27\n",
        "# print(np.sqrt(x)) calcula la raíz cuadrada de cada elemento: sqrt(1) = 1.0, sqrt(2) ≈ 1.414, sqrt(3) ≈ 1.732\n"
      ],
      "metadata": {
        "colab": {
          "base_uri": "https://localhost:8080/"
        },
        "id": "Zzz_KWzDvox9",
        "outputId": "9ae5352f-859b-4d7f-b3ce-7927a8d7635f"
      },
      "execution_count": 85,
      "outputs": [
        {
          "output_type": "execute_result",
          "data": {
            "text/plain": [
              "array([1.        , 1.41421356, 1.73205081])"
            ]
          },
          "metadata": {},
          "execution_count": 85
        }
      ]
    },
    {
      "cell_type": "markdown",
      "source": [
        "Segunda parte\n",
        "\n",
        "![image.png](data:image/png;base64,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)"
      ],
      "metadata": {
        "id": "UlQMKlo-wyjs"
      }
    }
  ]
}