{
  "nbformat": 4,
  "nbformat_minor": 0,
  "metadata": {
    "colab": {
      "provenance": [],
      "authorship_tag": "ABX9TyP478YiWkL0aTeRyYeI2GDa",
      "include_colab_link": true
    },
    "kernelspec": {
      "name": "python3",
      "display_name": "Python 3"
    },
    "language_info": {
      "name": "python"
    }
  },
  "cells": [
    {
      "cell_type": "markdown",
      "metadata": {
        "id": "view-in-github",
        "colab_type": "text"
      },
      "source": [
        "<a href=\"https://colab.research.google.com/github/Miladatasys/sic_ai/blob/main/intro_pandas_numpy.ipynb\" target=\"_parent\"><img src=\"https://colab.research.google.com/assets/colab-badge.svg\" alt=\"Open In Colab\"/></a>"
      ]
    },
    {
      "cell_type": "markdown",
      "source": [
        "# Clase 3 Introducción a Pandas y Numpy"
      ],
      "metadata": {
        "id": "2GErrIXvjzzr"
      }
    },
    {
      "cell_type": "markdown",
      "source": [
        "# NumPy\n",
        "## NumPy (Numerical Python) es una biblioteca que proporciona soporte para crear y manipular matrices grandes y multidimensionales, junto con una colección de funciones matemáticas para operar con estas matrices de manera eficiente.\n",
        "\n",
        "Características principales de NumPy:\n",
        "\n",
        "\n",
        "*   Arrays multidimensionales: NumPy proporciona una estructura de datos llamada ndarray, que permite manejar matrices de cualquier dimensión.\n",
        "*   Funciones matemáticas: Incluye funciones para operaciones algebraicas, estadísticas y lógicas.\n",
        "*   Interoperabilidad: Funciona bien con otras bibliotecas como SciPy y Matplotlib.\n",
        "\n",
        "\n",
        "\n",
        "\n",
        "\n",
        "\n"
      ],
      "metadata": {
        "id": "HzGrz52IikMc"
      }
    },
    {
      "cell_type": "code",
      "execution_count": 2,
      "metadata": {
        "colab": {
          "base_uri": "https://localhost:8080/"
        },
        "id": "BmcZr7htiVUT",
        "outputId": "6f43b26b-5ea1-48db-f925-04852a74a58f"
      },
      "outputs": [
        {
          "output_type": "stream",
          "name": "stdout",
          "text": [
            "Array unidimensional:\n",
            " [1 2 3 4 5]\n",
            "Array bidimensional [[1 2 3]\n",
            " [4 5 6]]\n",
            "Array tridimensional:\n",
            " [[[ 1  2  3]\n",
            "  [ 4  5  6]]\n",
            "\n",
            " [[ 7  8  9]\n",
            "  [10 11 12]]]\n",
            "Suma de todos los elementos del array_2:  21\n",
            "Promedio de todos sus elementos:  3.5\n",
            "Máximo valor del array_2:  6\n",
            "Mínimo valor del array_2:  1\n"
          ]
        }
      ],
      "source": [
        "import numpy as np\n",
        "\n",
        "array_1d = np.array([1, 2, 3, 4, 5])\n",
        "print(\"Array unidimensional:\\n\", array_1d)\n",
        "\n",
        "array_2d =np.array([[1,2,3], [4,5,6]])\n",
        "print(\"Array bidimensional\", array_2d)\n",
        "\n",
        "array_3d = np.array([[[1,2,3], [4,5,6]], [[7,8,9], [10,11,12]]])\n",
        "print(\"Array tridimensional:\\n\", array_3d)\n",
        "\n",
        "#Operaciones básicas\n",
        "print(\"Suma de todos los elementos del array_2: \", np.sum(array_2d))\n",
        "print(\"Promedio de todos sus elementos: \", np.mean(array_2d))\n",
        "print(\"Máximo valor del array_2: \", np.max(array_2d))\n",
        "print(\"Mínimo valor del array_2: \", np.min(array_2d))"
      ]
    },
    {
      "cell_type": "markdown",
      "source": [
        "# Pandas\n",
        "Pandas es una biblioteca que proporciona estructuras de datos y herramientas de análisis de datos flexibles y eficientes. Es especialmente útil para datos tabulares, como los que se encuentran en hojas de cálculo o bases de datos.\n",
        "\n",
        "Características principales de Pandas:\n",
        "\n",
        "\n",
        "*   Series: Estructura unidimensional similar a una lista o un array de NumPy.\n",
        "*   DataFrame: Estructura bidimensional similar a una tabla en una base de datos o una hoja de cálculo de Excel.\n",
        "*   Funciones de E/S: Herramientas para leer y escribir datos en diversos formatos (CSV, Excel, SQL, etc.).\n",
        "*   Manipulación de datos: Funciones para filtrar, agrupar, pivotar, fusionar, etc.\n",
        "\n",
        "\n",
        "\n",
        "\n",
        "\n",
        "\n",
        "\n"
      ],
      "metadata": {
        "id": "UGDgA99kno4D"
      }
    },
    {
      "cell_type": "code",
      "source": [
        "import pandas as pd\n",
        "\n",
        "serie = pd.Series([10, 20])\n",
        "print(\"Serie:\\n\", serie)\n",
        "\n",
        "data = pd.DataFrame({'Nombre': ['Mila', 'Data'],\n",
        "                   'Edad': [30, 50],\n",
        "                   'Ciudad': ['Ciudad A', 'Ciudad B']})\n",
        "df = pd.DataFrame(data)\n",
        "print(\"Dataframe:\\n\", df)\n",
        "\n",
        "print(\"Columna 'Edad':\\n\", df['Edad'])\n",
        "\n",
        "print(\"Filtrar por Edad > 30:\\n\", df[df['Edad'] > 30])\n",
        "\n",
        "print(\"Filtrar por Ciudad == 'Ciudad A':\\n\", df[df['Ciudad'] == 'Ciudad A'])"
      ],
      "metadata": {
        "colab": {
          "base_uri": "https://localhost:8080/"
        },
        "id": "Z7MeHjYVn4Co",
        "outputId": "4e1e3d3c-f293-47a5-c1e4-152b09e8f78a"
      },
      "execution_count": 6,
      "outputs": [
        {
          "output_type": "stream",
          "name": "stdout",
          "text": [
            "Serie:\n",
            " 0    10\n",
            "1    20\n",
            "dtype: int64\n",
            "Dataframe:\n",
            "   Nombre  Edad    Ciudad\n",
            "0   Mila    30  Ciudad A\n",
            "1   Data    50  Ciudad B\n",
            "Columna 'Edad':\n",
            " 0    30\n",
            "1    50\n",
            "Name: Edad, dtype: int64\n",
            "Filtrar por Edad > 30:\n",
            "   Nombre  Edad    Ciudad\n",
            "1   Data    50  Ciudad B\n",
            "Filtrar por Ciudad == 'Ciudad A':\n",
            "   Nombre  Edad    Ciudad\n",
            "0   Mila    30  Ciudad A\n"
          ]
        }
      ]
    }
  ]
}