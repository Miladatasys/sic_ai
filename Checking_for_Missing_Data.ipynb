{
  "nbformat": 4,
  "nbformat_minor": 0,
  "metadata": {
    "colab": {
      "provenance": [],
      "authorship_tag": "ABX9TyPpk/BvKdWNPbJdhFtZe9/3",
      "include_colab_link": true
    },
    "kernelspec": {
      "name": "python3",
      "display_name": "Python 3"
    },
    "language_info": {
      "name": "python"
    }
  },
  "cells": [
    {
      "cell_type": "markdown",
      "metadata": {
        "id": "view-in-github",
        "colab_type": "text"
      },
      "source": [
        "<a href=\"https://colab.research.google.com/github/Miladatasys/sic_ai/blob/main/Checking_for_Missing_Data.ipynb\" target=\"_parent\"><img src=\"https://colab.research.google.com/assets/colab-badge.svg\" alt=\"Open In Colab\"/></a>"
      ]
    },
    {
      "cell_type": "code",
      "execution_count": 3,
      "metadata": {
        "id": "H5eEmsdZanaQ"
      },
      "outputs": [],
      "source": [
        "import pandas as pd\n",
        "import numpy as pn"
      ]
    },
    {
      "cell_type": "markdown",
      "source": [
        "Missing Value"
      ],
      "metadata": {
        "id": "FqVjXZITfFQs"
      }
    },
    {
      "cell_type": "code",
      "source": [
        "import seaborn as sns\n",
        "\n",
        "df = sns.load_dataset('titanic')\n",
        "nan_deck = df['deck'].value_counts(dropna = False)\n",
        "print(nan_deck)\n",
        "\n",
        "#sns es la librería que en este caso, nos carga el dataset automáticamente\n",
        "#acá vemos la información por deck o piso del titanic y añadimos al df los valores nulos ya que por defecto value_counts no los cuenta\n"
      ],
      "metadata": {
        "colab": {
          "base_uri": "https://localhost:8080/"
        },
        "id": "0phKwJM3fG4i",
        "outputId": "171fe3b4-7c5c-456a-9492-0647666c39cf"
      },
      "execution_count": 4,
      "outputs": [
        {
          "output_type": "stream",
          "name": "stdout",
          "text": [
            "deck\n",
            "NaN    688\n",
            "C       59\n",
            "B       47\n",
            "D       33\n",
            "E       32\n",
            "A       15\n",
            "F       13\n",
            "G        4\n",
            "Name: count, dtype: int64\n"
          ]
        }
      ]
    },
    {
      "cell_type": "code",
      "source": [
        "print(df.head().isnull())\n",
        "print(df.head().notnull())\n",
        "\n",
        "# head() retorna las primeras 5 filas por defecto, para inspeccionar rápidamente la data\n",
        "# isnull() hace que cada entrada sea de valor booleano, True indica que el valor está perdido (es NaN) y False indica que no lo está\n",
        "# notnull() hace lo mismo pero retornando True para los valores que sí están presentes y False para los que están perdidos"
      ],
      "metadata": {
        "colab": {
          "base_uri": "https://localhost:8080/"
        },
        "id": "PtiFUciPjF5d",
        "outputId": "26112a34-9f9f-433c-e96e-acdb58418efd"
      },
      "execution_count": 5,
      "outputs": [
        {
          "output_type": "stream",
          "name": "stdout",
          "text": [
            "   survived  pclass    sex    age  sibsp  parch   fare  embarked  class  \\\n",
            "0     False   False  False  False  False  False  False     False  False   \n",
            "1     False   False  False  False  False  False  False     False  False   \n",
            "2     False   False  False  False  False  False  False     False  False   \n",
            "3     False   False  False  False  False  False  False     False  False   \n",
            "4     False   False  False  False  False  False  False     False  False   \n",
            "\n",
            "     who  adult_male   deck  embark_town  alive  alone  \n",
            "0  False       False   True        False  False  False  \n",
            "1  False       False  False        False  False  False  \n",
            "2  False       False   True        False  False  False  \n",
            "3  False       False  False        False  False  False  \n",
            "4  False       False   True        False  False  False  \n",
            "   survived  pclass   sex   age  sibsp  parch  fare  embarked  class   who  \\\n",
            "0      True    True  True  True   True   True  True      True   True  True   \n",
            "1      True    True  True  True   True   True  True      True   True  True   \n",
            "2      True    True  True  True   True   True  True      True   True  True   \n",
            "3      True    True  True  True   True   True  True      True   True  True   \n",
            "4      True    True  True  True   True   True  True      True   True  True   \n",
            "\n",
            "   adult_male   deck  embark_town  alive  alone  \n",
            "0        True  False         True   True   True  \n",
            "1        True   True         True   True   True  \n",
            "2        True  False         True   True   True  \n",
            "3        True   True         True   True   True  \n",
            "4        True  False         True   True   True  \n"
          ]
        }
      ]
    },
    {
      "cell_type": "code",
      "source": [
        "print(df.head().isnull().sum(axis=0))\n",
        "\n",
        "# Retornamos las primeras 5 filas del DataFrame\n",
        "# Comprobamos si existen datos nulos\n",
        "# sum(axis=0) suma los valores booleanos (True como 1 y False como 0) en cada columna para contar los valores nulos"
      ],
      "metadata": {
        "colab": {
          "base_uri": "https://localhost:8080/"
        },
        "id": "Ls7knahwmg_L",
        "outputId": "d76a2d35-6c48-4492-f19a-fc4d21eb3914"
      },
      "execution_count": 6,
      "outputs": [
        {
          "output_type": "stream",
          "name": "stdout",
          "text": [
            "survived       0\n",
            "pclass         0\n",
            "sex            0\n",
            "age            0\n",
            "sibsp          0\n",
            "parch          0\n",
            "fare           0\n",
            "embarked       0\n",
            "class          0\n",
            "who            0\n",
            "adult_male     0\n",
            "deck           3\n",
            "embark_town    0\n",
            "alive          0\n",
            "alone          0\n",
            "dtype: int64\n"
          ]
        }
      ]
    },
    {
      "cell_type": "code",
      "source": [
        "df_thresh = df.dropna(axis = 1, thresh = 500)\n",
        "print(df_thresh.columns)\n",
        "print(df_thresh.shape)\n",
        "\n",
        "#dropna(axis= 1, tresh=500) elimina las columnas que tienen menos de 500 valores nulos\n",
        "#axis = 1 indica que la operación se realizará en columnas, ya que el axis = 0 es para filas"
      ],
      "metadata": {
        "colab": {
          "base_uri": "https://localhost:8080/"
        },
        "id": "Wo1DSPwmoXVx",
        "outputId": "e226108e-003c-4462-b43e-265f39680db1"
      },
      "execution_count": 7,
      "outputs": [
        {
          "output_type": "stream",
          "name": "stdout",
          "text": [
            "Index(['survived', 'pclass', 'sex', 'age', 'sibsp', 'parch', 'fare',\n",
            "       'embarked', 'class', 'who', 'adult_male', 'embark_town', 'alive',\n",
            "       'alone'],\n",
            "      dtype='object')\n",
            "(891, 14)\n"
          ]
        }
      ]
    },
    {
      "cell_type": "code",
      "source": [
        "df_age = df.dropna(subset= ['age'])\n",
        "mean_age = df['age'].mean(axis = 0)\n",
        "df['age'].fillna(mean_age, inplace = True)\n",
        "print(df['age'].head(10))"
      ],
      "metadata": {
        "colab": {
          "base_uri": "https://localhost:8080/"
        },
        "id": "ixGsTzOdxzai",
        "outputId": "54cd304c-0c4f-4e43-85d8-5a15783a546c"
      },
      "execution_count": 9,
      "outputs": [
        {
          "output_type": "stream",
          "name": "stdout",
          "text": [
            "0    22.000000\n",
            "1    38.000000\n",
            "2    26.000000\n",
            "3    35.000000\n",
            "4    35.000000\n",
            "5    29.699118\n",
            "6    54.000000\n",
            "7     2.000000\n",
            "8    27.000000\n",
            "9    14.000000\n",
            "Name: age, dtype: float64\n"
          ]
        }
      ]
    }
  ]
}